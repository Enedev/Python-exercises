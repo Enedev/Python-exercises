{
 "cells": [
  {
   "cell_type": "markdown",
   "metadata": {},
   "source": [
    "# Pensamiento Algorítmico\n",
    "\n",
    "## Taller: Estructuras Condicionales Simples, Anidadas y Múltiples\n",
    "\n",
    "Resuelva cada uno de los ejercicios siguientes en la casilla correspondiente\n",
    "\n",
    "---"
   ]
  },
  {
   "cell_type": "markdown",
   "metadata": {},
   "source": [
    "Nombre completo:\n",
    "Documento:"
   ]
  },
  {
   "cell_type": "markdown",
   "metadata": {},
   "source": [
    "\n",
    "## Ejercicio 1\n",
    "\n",
    "Escribir un programa que pregunte al usuario su edad y muestre por pantalla si es mayor de edad o no."
   ]
  },
  {
   "cell_type": "code",
   "execution_count": 4,
   "metadata": {},
   "outputs": [
    {
     "name": "stdout",
     "output_type": "stream",
     "text": [
      "Usted es menor de edad\n"
     ]
    }
   ],
   "source": [
    "age = int(input(\"Digame su edad: \"))\n",
    "\n",
    "if age > 17:\n",
    "    print(\"Usted es mayor de edad\")\n",
    "else:\n",
    "    print(\"Usted es menor de edad\")    "
   ]
  },
  {
   "cell_type": "markdown",
   "metadata": {},
   "source": [
    "\n",
    "# Ejercicio 2\n",
    "\n",
    "Escribir un programa que pida al usuario dos números y muestre por pantalla su división. Si el divisor es cero el programa debe mostrar un error."
   ]
  },
  {
   "cell_type": "code",
   "execution_count": 6,
   "metadata": {
    "scrolled": true
   },
   "outputs": [
    {
     "name": "stdout",
     "output_type": "stream",
     "text": [
      "Error\n"
     ]
    }
   ],
   "source": [
    "number_one = int(input())\n",
    "divider = int(input())\n",
    "\n",
    "if divider == 0:\n",
    "    print(\"Error\")\n",
    "else:\n",
    "    print(number_one/divider)"
   ]
  },
  {
   "cell_type": "markdown",
   "metadata": {},
   "source": [
    "\n",
    "# Ejercicio 3\n",
    "Para tributar un determinado impuesto se debe ser mayor de 16 años y tener unos ingresos iguales o superiores a 1000 € mensuales. Escribir un programa que pregunte al usuario su edad y sus ingresos mensuales y muestre por pantalla si el usuario tiene que tributar o no."
   ]
  },
  {
   "cell_type": "code",
   "execution_count": 2,
   "metadata": {},
   "outputs": [
    {
     "name": "stdout",
     "output_type": "stream",
     "text": [
      "Puede tributar\n"
     ]
    }
   ],
   "source": [
    "age = int(input())\n",
    "earnings = int(input())\n",
    "\n",
    "if age > 16 and earnings >= 1000:\n",
    "    print(\"Puede tributar\")\n",
    "else:\n",
    "    print(\"No puede tributar\")"
   ]
  },
  {
   "cell_type": "markdown",
   "metadata": {},
   "source": [
    "\n",
    "## Ejercicio 4\n",
    "\n",
    "Las tasas de impuestos para la declaración de renta de un determinado país son los siguientes:\n",
    "\n",
    "|Renta|Tasa de impuesto|\n",
    "|-----|----------------|\n",
    "|Menos de 10.000 USD|5%|\n",
    "|Entre 10.000 y 20.000 USD|15%|\n",
    "|Entre 20.000 y 35.000 USD|20%|\n",
    "|Entre 35.000 y 60.000 USD|30%|\n",
    "|Más de 60.000 USD|40%|\n",
    "\n",
    "Elabore un programa que pregunte al usuario la renta anual y muestre en pantalla la tasa de impuestos correspondiente junto con el valor a pagar\n"
   ]
  },
  {
   "cell_type": "code",
   "execution_count": 3,
   "metadata": {},
   "outputs": [
    {
     "name": "stdout",
     "output_type": "stream",
     "text": [
      "Tasa de impuesto:4000.0\n",
      "Valor a pagar:24000.0\n"
     ]
    }
   ],
   "source": [
    "rent = float(input(\"Pon tu renta\"))\n",
    "\n",
    "if rent < 10000:\n",
    "    tax_rate = 0.05\n",
    "elif rent >= 10000 and rent < 20000:\n",
    "    tax_rate = 0.15\n",
    "elif rent >= 20000 and rent < 35000:\n",
    "    tax_rate = 0.20\n",
    "elif rent >= 35000 and rent < 60000:\n",
    "    tax_rate = 0.30\n",
    "else:\n",
    "    tax_rate = 0.40\n",
    "\n",
    "amount_to_pay = rent + (rent * tax_rate)\n",
    "\n",
    "print(f\"Tasa de impuesto:{rent * tax_rate}\")\n",
    "print(f\"Valor a pagar:{amount_to_pay}\")"
   ]
  },
  {
   "cell_type": "markdown",
   "metadata": {},
   "source": [
    "\n",
    "## Ejercicio 5\n",
    "La pizzería El Zorro y la Gitana ofrece pizzas vegetarianas y no vegetarianas a sus clientes. Los ingredientes para cada tipo de pizza aparecen a continuación.\n",
    "\n",
    "* Ingredientes vegetarianos: Pimiento y Tofu.\n",
    "* Ingredientes no vegetarianos: Peperoni, Jamón y Salmón.\n",
    "\n",
    "Escribir un programa que pregunte al usuario si quiere una pizza vegetariana o no, y en función de su respuesta le muestre un menú con los ingredientes disponibles para que elija. Solo se puede eligir un ingrediente además de la mozzarella y el tomate que están en todas la pizzas. Al final se debe mostrar por pantalla si la pizza elegida es vegetariana o no y todos los ingredientes que lleva."
   ]
  },
  {
   "cell_type": "code",
   "execution_count": 3,
   "metadata": {},
   "outputs": [],
   "source": [
    "vegan_ingredients = [\"Pimiento\", \"Tofu\", \"Mozzarella\", \"Tomate\"]\n",
    "noVegan_ingredients = [\"Peperoni\", \"Jamon\", \"Salmon\", \"Mozzarella\", \"Tomate\"]\n",
    "aux = 0\n",
    "choose_pizza = int(input(\"1 para pizza vegetariana, 2 para pizza no vegetarina\")) \n",
    "ur_pizza = []\n",
    "\n",
    "if choose_pizza == 1:\n",
    "    print(f\"Incredientes posibles de tu pizza: {vegan_ingredients}\")\n",
    "    print(\"Escriba 0 para agregar Pimiento\")\n",
    "    print(\"Escriba 1 para agregar Tofu\")\n",
    "    print(\"Escriba 2 para agregar Mozzarella\")\n",
    "    print(\"Escriba 3 para agregar Tomate\")\n",
    "\n",
    "    while aux != 1:\n",
    "        ingredient = int(input())\n",
    "        for i in range(len(vegan_ingredients)):\n",
    "            if ingredient == i:\n",
    "                ur_pizza.append(vegan_ingredients[i])\n",
    "        aux = int(input(\"Si ya no quieres mas ingredientes escribe 1, si quieres mas ingredientes escribe cualquier otro numero\"))\n",
    "                    \n",
    "if choose_pizza == 2:\n",
    "    print(f\"Ingredientes posibles de tu pizza: {noVegan_ingredients}\")\n",
    "    print(\"Escriba 0 para agregar Peperoni\")    \n",
    "    print(\"Escriba 1 para agregar Jamon\")\n",
    "    print(\"Escriba 2 para agregar Salmon\")\n",
    "    print(\"Escriba 3 para agregar Mozzarella\")\n",
    "    print(\"Escriba 4 para agregar Tomate\")\n",
    "\n",
    "    while aux != 1:\n",
    "        ingredient = int(input())\n",
    "        for i in range(len(noVegan_ingredients)):\n",
    "            if ingredient == i:\n",
    "                ur_pizza.append(noVegan_ingredients[i])\n",
    "        aux = int(input(\"Si ya no quieres mas ingredientes escribe 1, si quieres mas ingredientes escribe cualquier otro numero\"))\n",
    "\n",
    "else:   \n",
    "    print(\"Pizza inexistente\")\n",
    "\n",
    "print(f\"Tu pizza tiene estos ingredientes: {ur_pizza}\")"
   ]
  }
 ],
 "metadata": {
  "kernelspec": {
   "display_name": "Python 3.10.8 64-bit",
   "language": "python",
   "name": "python3"
  },
  "language_info": {
   "codemirror_mode": {
    "name": "ipython",
    "version": 3
   },
   "file_extension": ".py",
   "mimetype": "text/x-python",
   "name": "python",
   "nbconvert_exporter": "python",
   "pygments_lexer": "ipython3",
   "version": "3.10.8"
  },
  "vscode": {
   "interpreter": {
    "hash": "107d7b120a5b68773a87d4067e673630b35702e55ebab3138143d08b1c4d7cbc"
   }
  }
 },
 "nbformat": 4,
 "nbformat_minor": 4
}
