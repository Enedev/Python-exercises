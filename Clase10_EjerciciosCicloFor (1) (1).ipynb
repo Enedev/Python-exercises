{
 "cells": [
  {
   "cell_type": "markdown",
   "metadata": {},
   "source": [
    "# Pensamiento Algorítmico\n",
    "\n",
    "## Taller\n",
    "\n",
    "Resuelva cada uno de los ejercicios en la casilla correspondiente.\n",
    "\n",
    "---"
   ]
  },
  {
   "cell_type": "markdown",
   "metadata": {},
   "source": [
    "Nombre:\n",
    "Documento:"
   ]
  },
  {
   "cell_type": "markdown",
   "metadata": {},
   "source": [
    "---\n",
    "\n",
    "### Ejercicio 1\n",
    "\n",
    "Elabore un programa que muestre como resultado los números del 1 al 20"
   ]
  },
  {
   "cell_type": "code",
   "execution_count": null,
   "metadata": {},
   "outputs": [
    {
     "name": "stdout",
     "output_type": "stream",
     "text": [
      "1\n",
      "2\n",
      "3\n",
      "4\n",
      "5\n",
      "6\n",
      "7\n",
      "8\n",
      "9\n",
      "10\n",
      "11\n",
      "12\n",
      "13\n",
      "14\n",
      "15\n",
      "16\n",
      "17\n",
      "18\n",
      "19\n",
      "20\n"
     ]
    }
   ],
   "source": [
    "for i in range(1,21):\n",
    "    print(i)"
   ]
  },
  {
   "cell_type": "markdown",
   "metadata": {},
   "source": [
    "### Ejercicio 2\n",
    "\n",
    "Elabore un programa que muestre como resultado los números del 1 al 20 junto con su valor doble y triple"
   ]
  },
  {
   "cell_type": "code",
   "execution_count": null,
   "metadata": {},
   "outputs": [
    {
     "name": "stdout",
     "output_type": "stream",
     "text": [
      "1 2 3\n",
      "2 4 6\n",
      "3 6 9\n",
      "4 8 12\n",
      "5 10 15\n",
      "6 12 18\n",
      "7 14 21\n",
      "8 16 24\n",
      "9 18 27\n",
      "10 20 30\n",
      "11 22 33\n",
      "12 24 36\n",
      "13 26 39\n",
      "14 28 42\n",
      "15 30 45\n",
      "16 32 48\n",
      "17 34 51\n",
      "18 36 54\n",
      "19 38 57\n",
      "20 40 60\n"
     ]
    }
   ],
   "source": [
    "for i in range(1,21):\n",
    "    print(i, i*2, i*3)"
   ]
  },
  {
   "cell_type": "markdown",
   "metadata": {},
   "source": [
    "### Ejercicio 3\n",
    "\n",
    "Elabore un programa que muestre los numeros pares entre el 1 y el 100"
   ]
  },
  {
   "cell_type": "code",
   "execution_count": null,
   "metadata": {},
   "outputs": [
    {
     "name": "stdout",
     "output_type": "stream",
     "text": [
      "2\n",
      "4\n",
      "6\n",
      "8\n",
      "10\n",
      "12\n",
      "14\n",
      "16\n",
      "18\n",
      "20\n",
      "22\n",
      "24\n",
      "26\n",
      "28\n",
      "30\n",
      "32\n",
      "34\n",
      "36\n",
      "38\n",
      "40\n",
      "42\n",
      "44\n",
      "46\n",
      "48\n",
      "50\n",
      "52\n",
      "54\n",
      "56\n",
      "58\n",
      "60\n",
      "62\n",
      "64\n",
      "66\n",
      "68\n",
      "70\n",
      "72\n",
      "74\n",
      "76\n",
      "78\n",
      "80\n",
      "82\n",
      "84\n",
      "86\n",
      "88\n",
      "90\n",
      "92\n",
      "94\n",
      "96\n",
      "98\n",
      "100\n"
     ]
    }
   ],
   "source": [
    "for i in range(1,101):\n",
    "    if i % 2 == 0:\n",
    "        print(i)"
   ]
  },
  {
   "cell_type": "markdown",
   "metadata": {},
   "source": [
    "### Ejercicio 4\n",
    "\n",
    "Elabore un programa lea un número entero positivo. Luego calcule la suma de todos los números desde 1 hasta el número introducido."
   ]
  },
  {
   "cell_type": "code",
   "execution_count": null,
   "metadata": {},
   "outputs": [
    {
     "ename": "ValueError",
     "evalue": "invalid literal for int() with base 10: ''",
     "output_type": "error",
     "traceback": [
      "\u001b[1;31m---------------------------------------------------------------------------\u001b[0m",
      "\u001b[1;31mValueError\u001b[0m                                Traceback (most recent call last)",
      "Cell \u001b[1;32mIn [8], line 1\u001b[0m\n\u001b[1;32m----> 1\u001b[0m num \u001b[39m=\u001b[39m \u001b[39mint\u001b[39;49m(\u001b[39minput\u001b[39;49m())\n\u001b[0;32m      2\u001b[0m addition \u001b[39m=\u001b[39m \u001b[39m0\u001b[39m\n\u001b[0;32m      3\u001b[0m \u001b[39mif\u001b[39;00m num \u001b[39m>\u001b[39m\u001b[39m=\u001b[39m \u001b[39m0\u001b[39m:\n",
      "\u001b[1;31mValueError\u001b[0m: invalid literal for int() with base 10: ''"
     ]
    }
   ],
   "source": [
    "num = int(input())\n",
    "addition = 0\n",
    "if num >= 0:\n",
    "    for i in range(1,num+1):\n",
    "        addition = addition + i\n",
    "        print(addition)"
   ]
  },
  {
   "cell_type": "markdown",
   "metadata": {},
   "source": [
    "### Ejercicio 5\n",
    "\n",
    "Usted requiere calcular la nota promedio obtenida por un grupo de alumnos en un examen, cuya calificación es de 0 a 5 y requiere 3.0 o más para aprobar. Elabore un programa que lea la cantidad de alumnos que presentaron el examen y seguido ingrese cada una de las notas de los estudiantes. Al final muestre la nota promedio del examen."
   ]
  },
  {
   "cell_type": "code",
   "execution_count": null,
   "metadata": {},
   "outputs": [
    {
     "name": "stdout",
     "output_type": "stream",
     "text": [
      "Nota invalidad\n",
      "Promedio del examen: 0.0\n"
     ]
    }
   ],
   "source": [
    "students = int(input())\n",
    "allAv = 0\n",
    "for i in range(students):\n",
    "    students_notes = float(input())\n",
    "    if students_notes >= 0 and students_notes <= 5.0:\n",
    "        allAv = allAv +  students_notes \n",
    "    else:\n",
    "        print(\"Nota invalidad\")\n",
    "        break\n",
    "print(\"Promedio del examen:\", (allAv / students))\n"
   ]
  },
  {
   "cell_type": "markdown",
   "metadata": {},
   "source": [
    "### Ejercicio 6\n",
    "\n",
    "Modifique el ejercicio 5 y, adicional a la nota promedio, muestre:\n",
    "* Cantidad de alumnos que ganaron el examen\n",
    "* Cantidad de alumnos que perdieron el examen\n",
    "* Mejor nota\n",
    "* Peor nota"
   ]
  },
  {
   "cell_type": "code",
   "execution_count": null,
   "metadata": {},
   "outputs": [
    {
     "name": "stdout",
     "output_type": "stream",
     "text": [
      "Promedio del examen: 4.0\n",
      "Mejor nota: 5.0\n",
      "Peor nota: 3.0\n"
     ]
    }
   ],
   "source": [
    "students = int(input())\n",
    "allAv = 0\n",
    "students_notes_array = []\n",
    "\n",
    "for i in range(students):\n",
    "    students_notes = float(input())\n",
    "    students_notes_array.append(students_notes)\n",
    "    \n",
    "    if students_notes >= 0 and students_notes <= 5.0:\n",
    "        allAv = allAv +  students_notes \n",
    "    else:\n",
    "        print(\"Nota invalidad\")\n",
    "        break\n",
    "    \n",
    "    ordernot = students_notes_array.sort()\n",
    "\n",
    "print(\"Promedio del examen:\", (allAv / students))\n",
    "print(\"Mejor nota:\",  students_notes_array[-1])\n",
    "print(\"Peor nota:\", students_notes_array[0])"
   ]
  },
  {
   "cell_type": "markdown",
   "metadata": {},
   "source": [
    "### Ejercicio 7\n",
    "\n",
    "La Tienda Militar Ora posee un sistema de fidelidad que otorga descuento a sus clientes así:\n",
    "\n",
    "* NA: No aplica fidelidad\n",
    "* Iron: 4% de descuento para compras de más de 5 artículos, de lo contrario 2%\n",
    "* Gold: 6% de descuento para compras de más de 3 artículos, de lo contrario 3%\n",
    "* Diamond: 10% de descuento para todas las compras\n",
    "\n",
    "Adicional, ofrece descuentos del 5% para personas de la tercera edad (mayores a 65 años) y un 3% de descuento para hombres mayores de 30 años que se encuentren en la Armada Nacional. Todos estos descuentos son acumulables. Existen artículos a los cuales no se les puede aplicar el descuento.\n",
    "\n",
    "Elabore un algoritmo que lea los datos del cliente (Nombre, Edad, Género, Ocupación, Fidelidad), junto con la cantidad de artículos que va a llevar. Luego lea el nombre, el precio y si el artículo aplica para descuento. Al final, muestre el total bruto, el total a pagar y el monto descontado."
   ]
  },
  {
   "cell_type": "code",
   "execution_count": null,
   "metadata": {},
   "outputs": [
    {
     "name": "stdout",
     "output_type": "stream",
     "text": [
      "Marque 1 si usted es nivel NA (No aplica descuento por fidelidad\n",
      "Marque 2 si usted es nivel Iron (4% descuento si tiene mas de 5 compras, si no, 2%)\n",
      "Marque 2 si usted es nivel Gold (6% descuento si tiene mas de 3 compras, si no, 3%)\n",
      "Marque 1 si usted es nivel Diamond (10% de decuento siempre)\n",
      "Daniel Este es su recibo\n",
      "Este es el monto en bruto: 60.0\n",
      "Este es el total a pagar: 58.0\n",
      "Este es el monto total descontado : 2.0\n"
     ]
    }
   ],
   "source": [
    "name = str(input(\"Copie su nombre\"))\n",
    "age = int(input(\"Copie su edad\"))\n",
    "genderAsk = int(input(\"Masculino = 1, Feminino = 2, Otro numero = No definido\"))\n",
    "\n",
    "if genderAsk == 1:\n",
    "    gender = \"Hombre\"\n",
    "    gender_lower = gender.lower()\n",
    "elif genderAsk == 2:\n",
    "    gender = \"Mujer\"\n",
    "    gender_lower = gender.lower()\n",
    "else:\n",
    "    gender = \"No definido\"\n",
    "    gender_lower = gender.lower()\n",
    "\n",
    "print(\"Marque 1 si usted es nivel NA (No aplica descuento por fidelidad\")\n",
    "print(\"Marque 2 si usted es nivel Iron (4% descuento si tiene mas de 5 compras, si no, 2%)\")\n",
    "print(\"Marque 2 si usted es nivel Gold (6% descuento si tiene mas de 3 compras, si no, 3%)\")\n",
    "print(\"Marque 1 si usted es nivel Diamond (10% de decuento siempre)\")\n",
    "\n",
    "fidelity = int(input(\"Tu nivel de fidelidad es: \"))\n",
    "\n",
    "things_to_buy = int(input(\"Numero de articulos que comprara\"))\n",
    "\n",
    "discount_prices = 0\n",
    "no_discount_prices = 0\n",
    "total_prices = 0\n",
    "\n",
    "for i in range(things_to_buy):\n",
    "    prices = float(input(\"Precio de los objetos respectivamente\"))\n",
    "    enjoy_discount = int(input(\"1 si aplica descuento, 2 u otro numero si no aplica (respectivamente)\"))\n",
    "\n",
    "    if enjoy_discount == 1:\n",
    "        discount_prices = discount_prices + prices\n",
    "    \n",
    "    if enjoy_discount != 1:\n",
    "        no_discount_prices = no_discount_prices + prices\n",
    "\n",
    "    total_prices = total_prices + prices\n",
    "\n",
    "fidelity_discount = 0\n",
    "\n",
    "if fidelity == 2:\n",
    "    fidelity_discount = discount_prices * 0.02\n",
    "    if things_to_buy > 5:\n",
    "        fidelity_discount = discount_prices * 0.04\n",
    "elif fidelity ==3:\n",
    "    fidelity_discount = discount_prices * 0.03\n",
    "    if things_to_buy > 3:\n",
    "        fidelity_discount = discount_prices * 0.06\n",
    "elif fidelity ==4:\n",
    "    fidelity_discount = discount_prices * 0.10\n",
    "\n",
    "job = str(input(\"En que trabaja?\"))\n",
    "job_lower = job.lower()\n",
    "\n",
    "if job_lower == \"armada nacional\" and age > 30 and gender_lower == \"hombre\":\n",
    "    discount_age_price = discount_prices * 0.03\n",
    "\n",
    "if age > 65:\n",
    "    discount_age_price = discount_age_price * 0.05\n",
    "\n",
    "total_prices_wDiscount = (discount_prices + no_discount_prices) - fidelity_discount - discount_age_price\n",
    "\n",
    "total_discounts = fidelity_discount + discount_age_price\n",
    "\n",
    "print(name, \"Este es su recibo\")\n",
    "print(f\"Este es el monto en bruto: {total_prices}\")\n",
    "print(f\"Este es el total a pagar: {total_prices_wDiscount}\")\n",
    "print(f\"Este es el monto total descontado : {total_discounts}\")\n",
    "\n",
    "    "
   ]
  },
  {
   "cell_type": "markdown",
   "metadata": {},
   "source": [
    "### Ejercicio 8\n",
    "\n",
    "La agencia inmobiliaria AirRent ofrece alquiler de inmuebles vacacionales por días y requiere generar un informe, para el propietario de un inmueble a su cargo, de los valores pagados durante un año. Dependiendo de la candidad de días arrendados por mes, se genera un recargo:\n",
    "\n",
    "* Si un inmueble se arrienda más de 10 días al mes, se paga un recargo adicional del 10%\n",
    "* Si el inmueble se arrienda más de 20 días al mes, se paga un recargo adicional del 15%\n",
    "* De lo contrario, no se paga recargo\n",
    "\n",
    "Elabore un programa que lea el año para el cual se genera el reporte. Luego muestre cada uno de los meses del año y lea la cantidad de días que estuvo arrendado y el valor por día para ese mes. Al final, muestre:\n",
    "\n",
    "* Total pagado\n",
    "* Valor pagado por concepto de recargos\n",
    "* Mes con mayor cantidad de días arrendado\n",
    "* Mes con mayor ingreso\n",
    "* Mes con menor cantidad de días arrendado\n",
    "* Mes con menor ingreso"
   ]
  },
  {
   "cell_type": "code",
   "execution_count": 17,
   "metadata": {},
   "outputs": [
    {
     "name": "stdout",
     "output_type": "stream",
     "text": [
      "enero febrero marzo abril mayo junio julio agosto septiembre octubre noviembre diciembre  \n",
      "31 28 31 30 31 30 31 31 30 31 30 31  \n",
      "Total pagado: 515.0\n",
      "Valor pagado por concepto de recargos:15.0\n",
      "mes con mayor cantidad de dias arrendado:('abril', 15)\n",
      "mes con mayor ingreso:('marzo', 165.0)\n",
      "mes con menos cantidad de dias arrendado:('enero', 3)\n",
      "mes con menos ingreso:('febrero', 95.0)\n"
     ]
    }
   ],
   "source": [
    "año = int(input(\"Año del reporte\"))\n",
    "total_price_days  = 0\n",
    "price_4day = 0\n",
    "aditional_total = 0\n",
    "month_days = []\n",
    "month_money = []\n",
    "days_ = 0\n",
    "aux = 0\n",
    "last_max_month_days = 0\n",
    "last_min_month_days = 0\n",
    "month_with_max_days = \"\"\n",
    "month_with_min_days = \"\"\n",
    "last_max_money = 0\n",
    "last_min_money = 0 \n",
    "month_money_max = \"\"\n",
    "month_money_min = \"\"\n",
    "\n",
    "#sacar si un año es bisiesto\n",
    "if año % 4 == 0 and (año % 100 != 0 or año % 400 == 0):\n",
    "\n",
    "    month = [\"enero\", \"febrero\", \"marzo\", \"abril\",\"mayo\", \"junio\", \"julio\", \"agosto\",\"septiembre\", \"octubre\", \"noviembre\", \"diciembre\"],[31,29,31,30,31,30,31,31,30,31,30,31] \n",
    "    for i in range(len(month)):\n",
    "        if i > 0:\n",
    "            print(\" \")\n",
    "        for j in range(12):\n",
    "            print(month[i][j], end= \" \")\n",
    "else:\n",
    "\n",
    "    month = [\"enero\", \"febrero\", \"marzo\", \"abril\",\"mayo\", \"junio\", \"julio\", \"agosto\",\"septiembre\", \"octubre\", \"noviembre\", \"diciembre\"],[31,28,31,30,31,30,31,31,30,31,30,31] \n",
    "\n",
    "    for i in range(len(month)):\n",
    "        if i > 0:\n",
    "            print(\" \")  \n",
    "        for j in range(12):\n",
    "            print(month[i][j], end= \" \")\n",
    "\n",
    "    print(\" \")\n",
    "\n",
    "    rented_months = int(input(\"Numero de meses que rentaste al menos 1 dia\"))\n",
    "    if rented_months > 2:   \n",
    "        for i in range(rented_months):\n",
    "            month_ = str(input(\"Mes en el que arrendo\"))\n",
    "            if month_ == \"enero\" or month_ == \"febrero\" or month_ == \"marzo\" or month_ == \"abril\" or month_ == \"junio\" or month_ == \"julio\" or month_ == \"agosto\" or month_ == \"septiembre\" or month_ == \"octubre\" or month_ == \"noviembre\" or month_ == \"diciembre\":\n",
    "                for j in range(12):\n",
    "                    if month_ == month[0][j]:\n",
    "\n",
    "                        day_inmonth = float(input(\"Cuanto vale un dia arrendado en este mes?\"))\n",
    "                        days_ = int(input(\"Cuantos dias estuvo arrendado este mes?\"))\n",
    "\n",
    "                        price_4day = day_inmonth * days_\n",
    "\n",
    "                        if days_ >= 1 and days_ <= month[1][j]:\n",
    "                            total_price_days = total_price_days + price_4day\n",
    "                            if days_ > 10 and days_ < 21:\n",
    "                                aditional = price_4day * 0.10\n",
    "                                aditional_total = aditional_total + aditional\n",
    "                            elif days_> 20:\n",
    "                                aditional_15porcent = price_4day * 0.15\n",
    "                                aditional_total = aditional_total + aditional\n",
    "                        else:\n",
    "                            print(\"Numero mayor a los dias del mes, no valdra.\")\n",
    "\n",
    "\n",
    "                        month_money.append(price_4day + aditional)\n",
    "                        month_days.append(days_)\n",
    "                        if(month_money[i] > last_max_money):\n",
    "                            last_max_money = month_money[i]\n",
    "                            max_money_month = month_\n",
    "                        if(last_min_money == 0 or month_money[i] < last_min_money):\n",
    "                            last_min_money = month_money[i]\n",
    "                            month_money_min = month_\n",
    "                        if(month_days[i] > last_max_month_days):\n",
    "                            last_max_month_days = month_days[i]\n",
    "                            month_with_max_days = month_\n",
    "                        if(last_min_month_days == 0 or month_days[i] < last_min_month_days):\n",
    "                            last_min_month_days = month_days[i]\n",
    "                            month_with_min_days = month_\n",
    "            else:\n",
    "                print(\"Este mes no existe\")\n",
    "    else:\n",
    "        print(\"Numero de meses menor a 3.\")\n",
    "            \n",
    "\n",
    "    month_money.sort()\n",
    "    month_days.sort() \n",
    "\n",
    "    print(f\"Total pagado: {total_price_days + aditional_total}\")\n",
    "    print(f\"Valor pagado por concepto de recargos:{aditional_total}\")\n",
    "    print(f\"mes con mayor cantidad de dias arrendado:{month_with_max_days, month_days[-1]}\")\n",
    "    print(f\"mes con mayor ingreso:{max_money_month, month_money[-1]}\")\n",
    "    print(f\"mes con menos cantidad de dias arrendado:{month_with_min_days, month_days[0]}\")\n",
    "    print(f\"mes con menos ingreso:{month_money_min, month_money[0]}\")"
   ]
  }
 ],
 "metadata": {
  "kernelspec": {
   "display_name": "Python 3.10.8 64-bit",
   "language": "python",
   "name": "python3"
  },
  "language_info": {
   "codemirror_mode": {
    "name": "ipython",
    "version": 3
   },
   "file_extension": ".py",
   "mimetype": "text/x-python",
   "name": "python",
   "nbconvert_exporter": "python",
   "pygments_lexer": "ipython3",
   "version": "3.10.8"
  },
  "vscode": {
   "interpreter": {
    "hash": "056233c5d2ea3d18a75f8210bc1eaf1df52661ed480b04044a16cb89923f092d"
   }
  }
 },
 "nbformat": 4,
 "nbformat_minor": 4
}
