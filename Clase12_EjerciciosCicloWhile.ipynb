{
 "cells": [
  {
   "cell_type": "markdown",
   "metadata": {},
   "source": [
    "# Pensamiento Algorítmico\n",
    "\n",
    "## Taller: Ciclo While\n",
    "\n",
    "Resuelva cada uno de los ejercicios siguientes en la casilla correspondiente\n",
    "\n",
    "---"
   ]
  },
  {
   "cell_type": "markdown",
   "metadata": {},
   "source": [
    "Nombre completo:\n",
    "Documento:"
   ]
  },
  {
   "cell_type": "markdown",
   "metadata": {},
   "source": [
    "### Ejercicio 1\n",
    "\n",
    "Elabore un programa que muestre los números del 1 al 20. Para este ejercicio utilice el ciclo **while**."
   ]
  },
  {
   "cell_type": "code",
   "execution_count": 2,
   "metadata": {},
   "outputs": [
    {
     "name": "stdout",
     "output_type": "stream",
     "text": [
      "1\n",
      "2\n",
      "3\n",
      "4\n",
      "5\n",
      "6\n",
      "7\n",
      "8\n",
      "9\n",
      "10\n",
      "11\n",
      "12\n",
      "13\n",
      "14\n",
      "15\n",
      "16\n",
      "17\n",
      "18\n",
      "19\n",
      "20\n"
     ]
    }
   ],
   "source": [
    "num = 1\n",
    "\n",
    "while num != 21:\n",
    "    print(num)\n",
    "    num += 1\n"
   ]
  },
  {
   "cell_type": "markdown",
   "metadata": {},
   "source": [
    "### Ejercicio 2\n",
    "\n",
    "Elabore un programa que muestre únicamente los números pares entre el 1 y el 100. Para este ejercicio utilice el ciclo **while**."
   ]
  },
  {
   "cell_type": "code",
   "execution_count": 5,
   "metadata": {},
   "outputs": [
    {
     "name": "stdout",
     "output_type": "stream",
     "text": [
      "2\n",
      "4\n",
      "6\n",
      "8\n",
      "10\n",
      "12\n",
      "14\n",
      "16\n",
      "18\n",
      "20\n",
      "22\n",
      "24\n",
      "26\n",
      "28\n",
      "30\n",
      "32\n",
      "34\n",
      "36\n",
      "38\n",
      "40\n",
      "42\n",
      "44\n",
      "46\n",
      "48\n",
      "50\n",
      "52\n",
      "54\n",
      "56\n",
      "58\n",
      "60\n",
      "62\n",
      "64\n",
      "66\n",
      "68\n",
      "70\n",
      "72\n",
      "74\n",
      "76\n",
      "78\n",
      "80\n",
      "82\n",
      "84\n",
      "86\n",
      "88\n",
      "90\n",
      "92\n",
      "94\n",
      "96\n",
      "98\n",
      "100\n"
     ]
    }
   ],
   "source": [
    "num = 1\n",
    "\n",
    "while num != 101:\n",
    "    if num % 2 == 0:\n",
    "        print(num)\n",
    "    num += 1"
   ]
  },
  {
   "cell_type": "markdown",
   "metadata": {},
   "source": [
    "### Ejercicio 3\n",
    "\n",
    "Elabore un programa que lea indefinidamente un nombre y genere un saludo junto con el número correspondiente a su orden de ingreso. Finalice el programa cuando el usuario ingrese la palabra ***stop***"
   ]
  },
  {
   "cell_type": "code",
   "execution_count": 8,
   "metadata": {},
   "outputs": [
    {
     "name": "stdout",
     "output_type": "stream",
     "text": [
      "Hola Emanuel\n",
      "Hola neithan\n"
     ]
    }
   ],
   "source": [
    "stop = \"\"\n",
    "while stop != \"stop\":\n",
    "    name = str(input(\"Escriba su nombre\"))\n",
    "    print(\"Hola\", name)\n",
    "    stop = str(input(\"Escriba stop para salirse\"))"
   ]
  },
  {
   "cell_type": "markdown",
   "metadata": {},
   "source": [
    "### Ejercicio 4\n",
    "\n",
    "Un restaurante desea generar facturas para sus clientes. Elabore un algoritmo que lea el nombre y precio de cada platillo. Luego que pregunte si desea agregar otro platillo. Una vez el usuario haya terminado de agregar platillos a la factura, pregunte si desea adicionar el valor del servicio. En caso de adicionar el servicio, lea el porcentaje a adicionar. Al final muestre el total a pagar."
   ]
  },
  {
   "cell_type": "code",
   "execution_count": 12,
   "metadata": {},
   "outputs": [
    {
     "name": "stdout",
     "output_type": "stream",
     "text": [
      "No hay problema\n",
      "Platillos comprados: ['bini']\n",
      "Valor total a pagar: 1000.0\n"
     ]
    }
   ],
   "source": [
    "all_products = []\n",
    "all_products_prices = 0\n",
    "another_product = \"\"\n",
    "aditional_porcent = 0\n",
    "while another_product != \"no\":\n",
    "    products_names = str(input(\"Escriba el nombre del producto\"))\n",
    "    all_products.append(products_names)\n",
    "    prices = float(input(\"Precio del producto\"))\n",
    "    all_products_prices = all_products_prices + prices\n",
    "    \n",
    "    another_product = str(input(\"Desea agregar otro platillo?, si no copie 'no'\"))\n",
    "\n",
    "aditional_pay = int(input(\"Desea adicionar el valor del servicio?. Si es asi, copie 1, si no, copie otro numero\"))\n",
    "\n",
    "if aditional_pay == 1:\n",
    "    aditional_porcent = float(input(\"Porcentaje a adicionar\"))\n",
    "    print(\"Gracias por su servicio\")\n",
    "else:\n",
    "    print(\"No hay problema\")\n",
    "\n",
    "aditional_total = all_products_prices * aditional_porcent\n",
    "print(\"Platillos comprados:\", all_products)\n",
    "print(\"Valor total a pagar:\", all_products_prices + aditional_total)"
   ]
  },
  {
   "cell_type": "markdown",
   "metadata": {},
   "source": [
    "### Ejercicio 5\n",
    "\n",
    "Crear un programa que permita al usuario ingresar los montos de las compras de un cliente por cada artículo hasta que el usuario ingrese 0. Si ingresa un monto negativo, no se debe procesar y se debe pedir que ingrese un nuevo monto. Al finalizar, informar el total a pagar teniendo que cuenta que, si las ventas superan el total de $1000 USD, se le debe aplicar un 10% de descuento."
   ]
  },
  {
   "cell_type": "code",
   "execution_count": 17,
   "metadata": {},
   "outputs": [
    {
     "name": "stdout",
     "output_type": "stream",
     "text": [
      "Total a pagar 936.0\n"
     ]
    }
   ],
   "source": [
    "switch = 1\n",
    "\n",
    "all_prices = 0\n",
    "while switch != 0:\n",
    "    prices = float(input(\"Monto por articulo\"))\n",
    "    if prices < 0:\n",
    "        print(\"Ingreso invalido, ingrese otro\")\n",
    "    else:\n",
    "        all_prices = all_prices + prices\n",
    "        switch = int(input(\"Desea agregar otro objeto, si no es asi, copie 0?\"))\n",
    "    \n",
    "discount =  all_prices * 0.10\n",
    "if all_prices > 1000:\n",
    "    print(\"Total a pagar\", all_prices - discount )\n",
    "else:\n",
    "    print(\"Total a pagar\", all_prices)\n"
   ]
  },
  {
   "cell_type": "markdown",
   "metadata": {},
   "source": [
    "### Ejercicio 6\n",
    "\n",
    "Cree un programa que muestre mensaje de bienvenida seguido de un menú principal:\n",
    "\n",
    "* 1 - Realizar suma\n",
    "* 2 - Realizar resta\n",
    "* 3 - Realizar multiplicación\n",
    "* 4 - Realizar división\n",
    "* 5 - Salir\n",
    "\n",
    "Una vez el usuario seleccione una opción, lea dos números y realice la operación seleccionada para luego volver al menú principal. Si el usuario elige la opción *5 - Salir*, muestre un mensaje de despedida y finalice el programa. Debe validar que la opción seleccionada sea correcta."
   ]
  },
  {
   "cell_type": "code",
   "execution_count": 36,
   "metadata": {},
   "outputs": [
    {
     "name": "stdout",
     "output_type": "stream",
     "text": [
      "Hola bienvenidos!\n",
      "1.Realizar Suma\n",
      "2.Realizar resta\n",
      "3.Relizar multiplicacion\n",
      "4.Realizar division\n",
      "5.Salir\n",
      "Digite 2 numeros\n",
      "30.0  10.0 = 3.0\n",
      "Hasta luego!\n"
     ]
    }
   ],
   "source": [
    "print(\"Hola bienvenidos!\")\n",
    "\n",
    "print(\"1.Realizar Suma\")\n",
    "print(\"2.Realizar resta\")\n",
    "print(\"3.Relizar multiplicacion\")\n",
    "print(\"4.Realizar division\")\n",
    "print(\"5.Salir\")\n",
    "\n",
    "switch = 0\n",
    "\n",
    "while switch != 5:\n",
    "    switch = int(input(\"Seleccione que operacion quiere hacer\"))\n",
    "    if switch > 5 or switch < 1:\n",
    "        print(\"Esto no es una opcion, vuelva a intentarlo\")\n",
    "    else:\n",
    "        if switch == 5:\n",
    "            print(\"Hasta luego!\")\n",
    "            break\n",
    "\n",
    "        print(\"Digite 2 numeros\")\n",
    "        num1 = float(input(\"Numero 1\"))\n",
    "        num2 = float(input(\"Numero 2\"))\n",
    "\n",
    "        if switch == 1:\n",
    "            operation = num1 + num2\n",
    "            print(num1, \"+\", num2, \"=\", operation)\n",
    "        elif switch == 2:\n",
    "            operation = num1 - num2\n",
    "            print(num1, \"-\", num2, \"=\", operation)\n",
    "        elif switch == 3:\n",
    "            operation = num1 * num2\n",
    "            print(num1, \"x\", num2, \"=\", operation)\n",
    "        elif switch == 4:\n",
    "            operation = num1 / num2\n",
    "            print(num1, \"\", num2, \"=\", operation)\n",
    "        "
   ]
  }
 ],
 "metadata": {
  "kernelspec": {
   "display_name": "Python 3.10.8 64-bit",
   "language": "python",
   "name": "python3"
  },
  "language_info": {
   "codemirror_mode": {
    "name": "ipython",
    "version": 3
   },
   "file_extension": ".py",
   "mimetype": "text/x-python",
   "name": "python",
   "nbconvert_exporter": "python",
   "pygments_lexer": "ipython3",
   "version": "3.10.8"
  },
  "vscode": {
   "interpreter": {
    "hash": "107d7b120a5b68773a87d4067e673630b35702e55ebab3138143d08b1c4d7cbc"
   }
  }
 },
 "nbformat": 4,
 "nbformat_minor": 4
}
