{
 "cells": [
  {
   "cell_type": "markdown",
   "metadata": {
    "pycharm": {
     "name": "#%% md\n"
    }
   },
   "source": [
    "# Ejercicios de Arreglos Unidimensionales\n",
    "---"
   ]
  },
  {
   "cell_type": "markdown",
   "metadata": {
    "pycharm": {
     "name": "#%% md\n"
    }
   },
   "source": [
    "## Ejercicios 1\n",
    "\n",
    "Realice un programa que defina una lista de números y posteriormente muestre cada valor junto con su valor al cuadrado."
   ]
  },
  {
   "cell_type": "code",
   "execution_count": 3,
   "metadata": {
    "pycharm": {
     "name": "#%%\n"
    }
   },
   "outputs": [
    {
     "name": "stdout",
     "output_type": "stream",
     "text": [
      "4 16\n",
      "5 25\n",
      "7 49\n",
      "8 64\n",
      "2 4\n",
      "5 25\n",
      "7 49\n",
      "8 64\n"
     ]
    }
   ],
   "source": [
    "numbers = [4,5,7,8,2,5,7,8]\n",
    "for i in range(len(numbers)):\n",
    "    square = numbers[i] * numbers[i]\n",
    "    print(numbers[i], square)"
   ]
  },
  {
   "cell_type": "markdown",
   "metadata": {
    "pycharm": {
     "name": "#%% md\n"
    }
   },
   "source": [
    "## Ejercicios 2\n",
    "\n",
    "Realice un programa que defina una lista de números enteros y elimine todos los valores impares. Luego, muestre los valores restantes."
   ]
  },
  {
   "cell_type": "code",
   "execution_count": 36,
   "metadata": {
    "pycharm": {
     "name": "#%%\n"
    }
   },
   "outputs": [
    {
     "name": "stdout",
     "output_type": "stream",
     "text": [
      "[4, 8, 6]\n"
     ]
    }
   ],
   "source": [
    "realN = [4, 8, 6, 3, 5]\n",
    "newPar = []\n",
    "for j in range(len(realN)):\n",
    "    if (realN[j] % 2) == 0:\n",
    "        newPar.append(realN[j])      \n",
    "print(newPar)"
   ]
  },
  {
   "cell_type": "markdown",
   "metadata": {
    "pycharm": {
     "name": "#%% md\n"
    }
   },
   "source": [
    "## Ejercicios 3\n",
    "\n",
    "Haga un programa que cree una lista de 5 nombres leídos por teclado. Luego, muestre la lista en orden inverso."
   ]
  },
  {
   "cell_type": "code",
   "execution_count": 32,
   "metadata": {
    "pycharm": {
     "name": "#%%\n"
    }
   },
   "outputs": [
    {
     "name": "stdout",
     "output_type": "stream",
     "text": [
      "neeithan\n",
      "esteban\n",
      "vos\n",
      "andres\n",
      "yo\n",
      "['yo', 'andres', 'vos', 'esteban', 'neeithan']\n"
     ]
    }
   ],
   "source": [
    "names = []\n",
    "\n",
    "for i in range(5):\n",
    "    names.append(str(input()))\n",
    "    \n",
    "res = names[::-1]    \n",
    "print(res)\n"
   ]
  },
  {
   "cell_type": "markdown",
   "metadata": {
    "pycharm": {
     "name": "#%% md\n"
    }
   },
   "source": [
    "##### Ejercicios 4\n",
    "\n",
    "Haga un programa que defina una lista de 5 notas (entre 0 y 5). Luego, calcule el promedio, la nota más alta y la nota más baja de las ingresadas."
   ]
  },
  {
   "cell_type": "code",
   "execution_count": 45,
   "metadata": {
    "pycharm": {
     "name": "#%%\n"
    }
   },
   "outputs": [
    {
     "name": "stdout",
     "output_type": "stream",
     "text": [
      "Promedio de notas 3.5\n",
      "Nota mas baja: 2.0 Nota mas alta: 5.0\n"
     ]
    }
   ],
   "source": [
    "notes = [3.5,4.0,5.0,3.0,2.0]\n",
    "suma = 0\n",
    "for i in range(len(notes)):\n",
    "    suma = suma + notes[i]\n",
    "    \n",
    "prom = suma / len(notes)\n",
    "\n",
    "print(\"Promedio de notas\", prom)\n",
    "\n",
    "for i in range(1,len(notes)):\n",
    "    for j in range(0, len(notes)-i):\n",
    "        if notes[j+1] < notes[j]:\n",
    "            aux = notes[j]\n",
    "            notes[j] = notes[j+1]\n",
    "            notes[j+1] = aux\n",
    "            \n",
    "print(\"Nota mas baja:\", notes[0], \"Nota mas alta:\", notes[-1])"
   ]
  },
  {
   "cell_type": "markdown",
   "metadata": {
    "pycharm": {
     "name": "#%% md\n"
    }
   },
   "source": [
    "## Ejercicios 5\n",
    "\n",
    "Elabore un programa que lea números enteros positivos para almacenarlos en una lista hasta que se ingrese un número negativo. Luego, muestre la lista completa (sólo los números válidos)."
   ]
  },
  {
   "cell_type": "code",
   "execution_count": 39,
   "metadata": {
    "pycharm": {
     "name": "#%%\n"
    }
   },
   "outputs": [
    {
     "name": "stdout",
     "output_type": "stream",
     "text": [
      "2\n",
      "3\n",
      "-2\n",
      "[2, 3]\n"
     ]
    }
   ],
   "source": [
    "positive = []\n",
    "enter = 1\n",
    "while enter > 0:\n",
    "    \n",
    "    enter = int(input())\n",
    "    positive.append(enter)\n",
    "\n",
    "positive.pop(-1)\n",
    "print(positive)\n",
    "    "
   ]
  },
  {
   "cell_type": "markdown",
   "metadata": {
    "pycharm": {
     "name": "#%% md\n"
    }
   },
   "source": [
    "## Ejercicios 6\n",
    "\n",
    "Elabore un programa que declare 3 listas \"lista1\", \"lista2\" y \"lista3\" de 5 enteros cada una. Lea por teclado los valores para \"lista1\" y \"lista2\" y calcule \"lista3\" = \"lista1\" + \"lista2\""
   ]
  },
  {
   "cell_type": "code",
   "execution_count": 3,
   "metadata": {
    "pycharm": {
     "name": "#%%\n"
    }
   },
   "outputs": [
    {
     "ename": "ValueError",
     "evalue": "could not convert string to float: ''",
     "output_type": "error",
     "traceback": [
      "\u001b[1;31m---------------------------------------------------------------------------\u001b[0m",
      "\u001b[1;31mValueError\u001b[0m                                Traceback (most recent call last)",
      "Cell \u001b[1;32mIn [3], line 4\u001b[0m\n\u001b[0;32m      1\u001b[0m lista1 \u001b[39m=\u001b[39m []\n\u001b[0;32m      3\u001b[0m \u001b[39mfor\u001b[39;00m i \u001b[39min\u001b[39;00m \u001b[39mrange\u001b[39m(\u001b[39m1\u001b[39m):\n\u001b[1;32m----> 4\u001b[0m     number \u001b[39m=\u001b[39m \u001b[39mfloat\u001b[39;49m(\u001b[39minput\u001b[39;49m())\n\u001b[0;32m      5\u001b[0m     lista1\u001b[39m.\u001b[39mappend(number)\n\u001b[0;32m      7\u001b[0m lista2 \u001b[39m=\u001b[39m []\n",
      "\u001b[1;31mValueError\u001b[0m: could not convert string to float: ''"
     ]
    }
   ],
   "source": [
    "lista1 = []\n",
    "\n",
    "for i in range(1):\n",
    "    number = float(input())\n",
    "    lista1.append(number)\n",
    "\n",
    "lista2 = []\n",
    "\n",
    "for i in range(1):\n",
    "    number2 = float(input())\n",
    "    lista2.append(number2)\n",
    "\n",
    "lista3 = []\n",
    "for i in range(1):\n",
    "    number3 = float(input())\n",
    "    lista3.append(number3)\n",
    "\n",
    "for i in range(1):\n",
    "    if lista1[i] + lista2[i] == lista3[i]:\n",
    "        print(\"Si son\")\n",
    "\n"
   ]
  },
  {
   "cell_type": "markdown",
   "metadata": {
    "pycharm": {
     "name": "#%% md\n"
    }
   },
   "source": [
    "## Ejercicios 7\n",
    "\n",
    "Elabore un programa que guarde los nombres y las edades de un grupo de estudiantes. Lea el nombre y la edad de cada alumno hasta que por nombre ingrese el caracter asterisco ( * ). Al finalizar, muestre los nombres de los estudiantes mayores de edad."
   ]
  },
  {
   "cell_type": "code",
   "execution_count": null,
   "metadata": {
    "pycharm": {
     "name": "#%%\n"
    }
   },
   "outputs": [],
   "source": []
  },
  {
   "cell_type": "markdown",
   "metadata": {
    "pycharm": {
     "name": "#%% md\n"
    }
   },
   "source": [
    "## Ejercicios 8\n",
    "\n",
    "En la pizzería el Zorro, el cliente puede armar la pizza con los ingredientes que desee. Elabore un programa que contenga una lista con los ingredientes disponibles y otra con los precios por cada ingrediente. Muestre un menú con el listado de ingredientes y precios junto con la opción \"Finalizar Pedido\". Luego, pregunte la opción seleccionada del menú y agregue los ingredientes a la orden (el cliente puede agregar varias veces un mismo ingrediente). Al finalizar, muestre el total a pagar y el listado completo de ingredientes de la orden, teniendo en cuenta que todas las pizzas contienen **Mozzarella** y **Tomate** como base."
   ]
  },
  {
   "cell_type": "code",
   "execution_count": null,
   "metadata": {
    "pycharm": {
     "name": "#%%\n"
    }
   },
   "outputs": [],
   "source": []
  }
 ],
 "metadata": {
  "kernelspec": {
   "display_name": "Python 3.10.8 64-bit",
   "language": "python",
   "name": "python3"
  },
  "language_info": {
   "codemirror_mode": {
    "name": "ipython",
    "version": 3
   },
   "file_extension": ".py",
   "mimetype": "text/x-python",
   "name": "python",
   "nbconvert_exporter": "python",
   "pygments_lexer": "ipython3",
   "version": "3.10.8"
  },
  "vscode": {
   "interpreter": {
    "hash": "056233c5d2ea3d18a75f8210bc1eaf1df52661ed480b04044a16cb89923f092d"
   }
  }
 },
 "nbformat": 4,
 "nbformat_minor": 4
}
