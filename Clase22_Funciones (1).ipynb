{
 "cells": [
  {
   "cell_type": "markdown",
   "metadata": {},
   "source": [
    "# Ejercicios de Funciones\n",
    "---"
   ]
  },
  {
   "cell_type": "markdown",
   "metadata": {},
   "source": [
    "## Ejercicios 1\n",
    "\n",
    "Realice una función que muestre 'Hola Mundo'"
   ]
  },
  {
   "cell_type": "code",
   "execution_count": 6,
   "metadata": {},
   "outputs": [
    {
     "name": "stdout",
     "output_type": "stream",
     "text": [
      "Hello World\n"
     ]
    }
   ],
   "source": [
    "def helloWorld():\n",
    "    \n",
    "    print(\"Hello World\")\n",
    "\n",
    "helloWorld()"
   ]
  },
  {
   "cell_type": "markdown",
   "metadata": {},
   "source": [
    "## Ejercicios 2\n",
    "\n",
    "Realice una función que reciba un \\<nombre> y muestre un saludo: \"Hola \\<nombre>\""
   ]
  },
  {
   "cell_type": "code",
   "execution_count": 8,
   "metadata": {},
   "outputs": [
    {
     "name": "stdout",
     "output_type": "stream",
     "text": [
      "Hola Neithan\n"
     ]
    }
   ],
   "source": [
    "def hiToName(name):\n",
    "    \n",
    "    print(\"Hola\", name)\n",
    "\n",
    "hiToName(\"Neithan\")\n"
   ]
  },
  {
   "cell_type": "markdown",
   "metadata": {},
   "source": [
    "## Ejercicios 3\n",
    "\n",
    "Realice una función que reciba el precio por hora y la cantidad de horas trabajadas en la semana. Retorne el monto total a pagar"
   ]
  },
  {
   "cell_type": "code",
   "execution_count": 12,
   "metadata": {},
   "outputs": [
    {
     "name": "stdout",
     "output_type": "stream",
     "text": [
      "Total a pagar: 20.0\n"
     ]
    }
   ],
   "source": [
    "def hoursWorksInAWeek(hourPrice, hourCount):\n",
    "    \n",
    "    return hourPrice * hourCount\n",
    "\n",
    "res = hoursWorksInAWeek(hourPrice=float(input()), hourCount=int(input()))\n",
    "print(f\"Total a pagar: {res}\")\n"
   ]
  },
  {
   "cell_type": "markdown",
   "metadata": {},
   "source": [
    "## Ejercicios 4\n",
    "\n",
    "Cuando un empleado trabaja más de 40 horas semanales, este recibe un recargo adicional por las horas extras. Modifique la función del ejercicio anterior para que reciba adicionalmente el % de recargo por horas adicionales y retorne el monto total a pagar"
   ]
  },
  {
   "cell_type": "code",
   "execution_count": 13,
   "metadata": {},
   "outputs": [
    {
     "name": "stdout",
     "output_type": "stream",
     "text": [
      "Total a pagar: 180.4\n"
     ]
    }
   ],
   "source": [
    "def hoursWorksInAWeek(hourPrice, hourCount, aditional):\n",
    "    \n",
    "    price_4day = hourPrice * hourCount\n",
    "    if hourCount > 40:\n",
    "        total_aditional = price_4day * aditional\n",
    "        return price_4day + total_aditional\n",
    "    else:\n",
    "        return price_4day\n",
    "\n",
    "res = hoursWorksInAWeek(hourPrice=float(input()), hourCount=int(input()), aditional = float(input()))\n",
    "print(f\"Total a pagar: {res}\")"
   ]
  },
  {
   "cell_type": "markdown",
   "metadata": {},
   "source": [
    "## Ejercicios 5\n",
    "\n",
    "Escriba una función que reciba una calificación (entre 0 y 1) y muestre el equivalente según la siguiente tabla. En caso tal de que se ingrese un valor erroneo, muestre un mensaje de error.\n",
    "\n",
    "|score|grado|\n",
    "|-----|-----|\n",
    "|>=0.9|A|\n",
    "|>=0.8|B|\n",
    "|>=0.7|C|\n",
    "|>=0.6|D|\n",
    "|<0.6|F|\n",
    "\n",
    "\n"
   ]
  },
  {
   "cell_type": "code",
   "execution_count": 20,
   "metadata": {},
   "outputs": [
    {
     "name": "stdout",
     "output_type": "stream",
     "text": [
      "Error papi\n"
     ]
    }
   ],
   "source": [
    "def message(a):\n",
    "    \n",
    "    if a >= 0 and a < 0.6:\n",
    "        b = \"F\"\n",
    "        return b\n",
    "    elif a >= 0.6 and a < 0.7:\n",
    "        b = \"D\"\n",
    "        return b\n",
    "    elif a >= 0.7 and a < 0.8:\n",
    "        b = \"C\"\n",
    "        return b\n",
    "    elif a >= 0.8 and a < 0.9:\n",
    "        b = \"B\"\n",
    "        return b\n",
    "    elif a >= 0.9 and a <= 1.0:\n",
    "        b = \"A\"\n",
    "        return b\n",
    "    else:\n",
    "        print(\"Error papi\")\n",
    "        \n",
    "message(a = float(input()))"
   ]
  },
  {
   "cell_type": "markdown",
   "metadata": {},
   "source": [
    "## Ejercicios 6\n",
    "\n",
    "Se tiene una lista de notas. Elabore:\n",
    "* Una función que calcule el promedio de las notas\n",
    "* Una función que calcule la nota más alta\n",
    "* Una función que calcule la nota más baja"
   ]
  },
  {
   "cell_type": "code",
   "execution_count": 23,
   "metadata": {},
   "outputs": [
    {
     "name": "stdout",
     "output_type": "stream",
     "text": [
      "Promedio: 4.2\n",
      "Mejor nota: 5.0\n",
      "Peor nota: 3.0\n"
     ]
    }
   ],
   "source": [
    "notes = [4.0, 5.0, 4.0, 3.0, 5.0]\n",
    "\n",
    "def average_grade():\n",
    "    \n",
    "    adittion = 0\n",
    "    divider = 0\n",
    "    average = 0\n",
    "    for i in range(len(notes)):\n",
    "        adittion = adittion + notes[i]\n",
    "        divider =  len(notes)\n",
    "        average = adittion / divider   \n",
    "    print(\"Promedio:\",average)\n",
    "\n",
    "average_grade()\n",
    "\n",
    "def highest_note():\n",
    "    #best_note = notes.sort()\n",
    "    #Por si no vale el sort (Metodo de seleccion a continuacion)\n",
    "    for i in range(0,len(notes)-1):\n",
    "        for j in range(i+1, len(notes)):\n",
    "            if notes[i] > notes[j]:\n",
    "                aux = notes[j]\n",
    "                notes[j] = notes[i]\n",
    "                notes[i] = aux\n",
    "\n",
    "    print(\"Mejor nota:\",notes[-1])\n",
    "\n",
    "highest_note()\n",
    "        \n",
    "def lowest_note():\n",
    "    #best_note = notes.sort()\n",
    "    #Por si no vale el sort (Metodo de seleccion a continuacion)\n",
    "    for i in range(0,len(notes)-1):\n",
    "        for j in range(i+1, len(notes)):\n",
    "            if notes[i] > notes[j]:\n",
    "                aux = notes[j]\n",
    "                notes[j] = notes[i]\n",
    "                notes[i] = aux\n",
    "\n",
    "    print(\"Peor nota:\",notes[0])\n",
    "\n",
    "lowest_note()\n"
   ]
  },
  {
   "cell_type": "markdown",
   "metadata": {},
   "source": [
    "## Ejercicios 7\n",
    "\n",
    "Elabore una función que reciba como argumentos dos números y un tipo de operación y retorne el resultado de la operación indicada. Las operaciones que debe agregar son: Suma, Resta, Multiplicación, División y Potencia."
   ]
  },
  {
   "cell_type": "code",
   "execution_count": 41,
   "metadata": {},
   "outputs": [
    {
     "name": "stdout",
     "output_type": "stream",
     "text": [
      "El resultado de la resta es: 10.0\n"
     ]
    }
   ],
   "source": [
    "def operations(num1, num2, operator):\n",
    "\n",
    "    global operator_low \n",
    "    operator_low = operator.lower()\n",
    "\n",
    "    if operator_low == \"suma\":\n",
    "        return num1 + num2\n",
    "    elif operator_low == \"resta\":\n",
    "        return num1 - num2\n",
    "    elif operator_low == \"multiplicacion\":\n",
    "        return num1 * num2\n",
    "    elif operator_low == \"division\":\n",
    "        return num1 / num2\n",
    "    elif operator_low == \"potencia\":\n",
    "        return num1 ** num2\n",
    "\n",
    "res = operations(num1 = float(input(\"Numero 1\")), num2 = float(input(\"Numero 2\")), operator = str(input(\"Que operacion\")))\n",
    "\n",
    "print(f\"El resultado de la {operator_low} es: {res}\")"
   ]
  },
  {
   "cell_type": "markdown",
   "metadata": {},
   "source": [
    "## Ejercicios 8\n",
    "\n",
    "Elabore una función que reciba como argumentos una lista y una cadena de texto (\"ASC\" o \"DESC\". Indica si se ordena de menor a mayor o mayor o menor). La función debe retornar la lista organizada según el orden indicado. Utilice uno de los métodos de ordenamiento vistos durante el curso. Adicionalmente, por defecto, la función ordenará de menor a mayor (\"ASC\")."
   ]
  },
  {
   "cell_type": "code",
   "execution_count": 53,
   "metadata": {},
   "outputs": [
    {
     "name": "stdout",
     "output_type": "stream",
     "text": [
      "Esta es su lista ordenada: [9, 7, 5, 4, 3, 2, 1], en el orden dictado como: DESC\n"
     ]
    }
   ],
   "source": [
    "def order_list(list, direction):\n",
    "    \n",
    "    global direction_upper\n",
    "    direction_upper = direction.upper()\n",
    "\n",
    "    if direction_upper == \"ASC\":\n",
    "        for i in range(0,len(list)-1):\n",
    "            for j in range(i+1, len(list)):\n",
    "                if list[i] > list[j]:\n",
    "                    aux = list[j]\n",
    "                    list[j] = list[i]\n",
    "                    list[i] = aux\n",
    "        return list\n",
    "    elif direction_upper == \"DESC\":\n",
    "        for i in range(0,len(list)-1):\n",
    "            for j in range(i+1, len(list)):\n",
    "                if list[i] < list[j]:\n",
    "                    aux = list[j]\n",
    "                    list[j] = list[i]\n",
    "                    list[i] = aux\n",
    "        return list\n",
    "    else:\n",
    "        for i in range(0,len(list)-1):\n",
    "            for j in range(i+1, len(list)):\n",
    "                if list[i] > list[j]:\n",
    "                    aux = list[j]\n",
    "                    list[j] = list[i]\n",
    "                    list[i] = aux\n",
    "        return list\n",
    "\n",
    "res = order_list(list = [1,5,3,7,9,4,2], direction = str(input(\"En que direccion quiere ordenar su lista\")))\n",
    "\n",
    "if direction_upper != \"ASC\" and direction_upper != \"DESC\":\n",
    "    print(f\"Esta es su lista ordenada: {res}, en el orden dictado como: default (Menor a Mayor)\")\n",
    "else:\n",
    "    print(f\"Esta es su lista ordenada: {res}, en el orden dictado como: {direction_upper}\")\n"
   ]
  },
  {
   "cell_type": "markdown",
   "metadata": {},
   "source": [
    "## Ejercicios 9\n",
    "\n",
    "Elabore una función que reciba como argumento una lista desordenada y un elemento que se desea buscar dentro de la lista. Utilice el método de búsqueda binaria para encontrar el elemento. En caso de que el elemento buscado no se encuentre en la lista, debe mostrar un mensaje. NOTA: Utilice la función del ejercicio anterior para ordenar la lista."
   ]
  },
  {
   "cell_type": "code",
   "execution_count": 64,
   "metadata": {},
   "outputs": [
    {
     "name": "stdout",
     "output_type": "stream",
     "text": [
      "El elemento está en la posición 1\n"
     ]
    }
   ],
   "source": [
    "def order_list(list):\n",
    "    \n",
    "    for i in range(0,len(list)-1):\n",
    "        for j in range(i+1, len(list)):\n",
    "            if list[i] > list[j]:\n",
    "                aux = list[j]\n",
    "                list[j] = list[i]\n",
    "                list[i] = aux\n",
    "    return list\n",
    "    \n",
    "list = [1,5,3,7,9,4,2]\n",
    "\n",
    "def search_inList(return_order_list, finder):\n",
    "    global index\n",
    "    primer = 0\n",
    "    ultimo = len(list)-1\n",
    "    index = -1\n",
    "    while (primer <= ultimo) and (index == -1):\n",
    "        mid = (primer+ultimo)//2\n",
    "        if list[mid] == finder:\n",
    "            index = mid\n",
    "        else:\n",
    "            if finder<list[mid]:\n",
    "                ultimo = mid - 1\n",
    "            else:\n",
    "                primer = mid + 1\n",
    "\n",
    "find = search_inList(return_order_list= order_list(list), finder = int(input()))\n",
    "\n",
    "if index != -1:\n",
    "    print(\"El elemento está en la posición\", index)\n",
    "else:\n",
    "    print(\"Error\")"
   ]
  },
  {
   "cell_type": "markdown",
   "metadata": {},
   "source": []
  },
  {
   "cell_type": "markdown",
   "metadata": {},
   "source": [
    "## Ejercicios 10\n",
    "\n",
    "Elabore una función que reciba tres matrices A, B y C. Retorne el resultado de A + B + C. Adicional, valide que todas las matrices sean de órden NxN. En caso tal de que no, muestre un mensaje de error."
   ]
  },
  {
   "cell_type": "code",
   "execution_count": 30,
   "metadata": {},
   "outputs": [
    {
     "data": {
      "text/plain": [
       "[[8, 6, 7, 6], [8, 6, 7, 6]]"
      ]
     },
     "execution_count": 30,
     "metadata": {},
     "output_type": "execute_result"
    }
   ],
   "source": [
    "def matrix_additions(A,B,C):\n",
    "    D = []\n",
    "    auxiliar = []\n",
    "\n",
    "    if len(A) == len(A[0]) and len(B) == len(B[0]) and len(C) == len(C[0]):\n",
    "        for i in range(len(A)):\n",
    "            for j in range(len(A)):\n",
    "                auxiliar.append(A[i][j] + B[i][j] + C[i][j])\n",
    "            D.insert(i, auxiliar)\n",
    "        return D\n",
    "    else:\n",
    "        print(\"Error\")\n",
    "    \n",
    "matrix_additions(\n",
    "    A = [[1,2],[2,3]],\n",
    "    B = [[2,3],[3,2]],\n",
    "    C = [[5,1],[2,1]]\n",
    ")"
   ]
  }
 ],
 "metadata": {
  "kernelspec": {
   "display_name": "Python 3.10.8 64-bit",
   "language": "python",
   "name": "python3"
  },
  "language_info": {
   "codemirror_mode": {
    "name": "ipython",
    "version": 3
   },
   "file_extension": ".py",
   "mimetype": "text/x-python",
   "name": "python",
   "nbconvert_exporter": "python",
   "pygments_lexer": "ipython3",
   "version": "3.10.8"
  },
  "vscode": {
   "interpreter": {
    "hash": "107d7b120a5b68773a87d4067e673630b35702e55ebab3138143d08b1c4d7cbc"
   }
  }
 },
 "nbformat": 4,
 "nbformat_minor": 4
}
