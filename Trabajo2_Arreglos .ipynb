{
 "cells": [
  {
   "cell_type": "markdown",
   "metadata": {},
   "source": [
    "# Pensamiento Algorítmico\n",
    "\n",
    "## Trabajo #2: Arreglos"
   ]
  },
  {
   "cell_type": "markdown",
   "metadata": {},
   "source": [
    "Lea atentamente las instrucciones y realice los siguientes ejercicios en Python.\n",
    "\n",
    "### Instrucciones de entrega\n",
    "\n",
    "Debe entregar este mismo archivo con todo el código que desarrolle y cargarlo en UVirtual.\n",
    "\n",
    "### Participantes\n",
    "\n",
    "**Neithan Felipe Gomez Rivera, 1013338680**\n",
    "**Juan Andres Suarez Adarve, 1038093679**"
   ]
  },
  {
   "cell_type": "markdown",
   "metadata": {},
   "source": [
    "# Ejercicio 1\n",
    "\n",
    "Un colegio tiene 3 listas donde almacena el nombre, el género y la nota final de un grupo de estudiantes. Elabore un algoritmo que calcule:\n",
    "\n",
    "- La nota promedio del curso\n",
    "- La nota promedio de los estudiantes hombres del curso\n",
    "- La nota promedio de las estudiantes mujeres del curso\n",
    "- El nombre del estudiante con la nota más alta de los estudiantes hombres\n",
    "- El nombre del estudiante con la nota más baja de los estudiantes hombres\n",
    "- El nombre del estudiante con la nota más alta de las estudiantes mujeres\n",
    "- El nombre del estudiante con la nota más baja de las estudiantes mujeres"
   ]
  },
  {
   "cell_type": "code",
   "execution_count": 5,
   "metadata": {},
   "outputs": [
    {
     "name": "stdout",
     "output_type": "stream",
     "text": [
      "La nota promedia del curso: 3.25\n",
      "La nota promedio de los estudiantes hombres del curso:3.08\n",
      "La nota promedio de los estudiantes mujeres del curso:3.3714285714285714\n",
      "El estudiante hombre con la nota más alta es: Juan\n",
      "El estudiante hombre con la nota más baja es: Juan David\n",
      "La estudiante mujer con la nota más alta es: Mariana\n",
      "El estudiante mujer con la nota más baja es: Laura\n"
     ]
    }
   ],
   "source": [
    "nombres = [\"Juan\",\"Ana\",\"Miguel\",\"Mariana\",\"Luis\",\"Julian\",\"Beatriz\",\"Laura\",\"Juan David\",\"Maria\",\"Gabriela\",\"Sara\"]\n",
    "\n",
    "generos = [\"M\",\"F\",\"M\",\"F\",\"M\",\"M\",\"F\",\"F\",\"M\",\"F\",\"F\",\"F\"]\n",
    "\n",
    "notas = [4.9,3.2,1.0,4.5,4.9,3.7,2.8,1.9,0.9,4.2,4.0,3.0]\n",
    "\n",
    "#### Escriba su código aquí\n",
    "\n",
    "aveg = 0\n",
    "men = 0\n",
    "women = 0\n",
    "best_men = \"\"\n",
    "worst_men = \"\"\n",
    "best_women = \"\"\n",
    "worst_women = \"\"\n",
    "\n",
    "\n",
    "\n",
    "for i in range(len(notas)):\n",
    "    aveg += notas[i]\n",
    "\n",
    "print(f\"La nota promedia del curso: {aveg / len(notas)}\")\n",
    "\n",
    "cont = 0\n",
    "\n",
    "for i in range(len(notas)):\n",
    "\n",
    "    if generos[i] == \"M\":\n",
    "        men += notas[i]\n",
    "        cont += 1\n",
    "\n",
    "print(f\"La nota promedio de los estudiantes hombres del curso:{men / cont}\")\n",
    "\n",
    "cont = 0\n",
    "\n",
    "for i in range(len(notas)):\n",
    "\n",
    "    if generos[i] == \"F\":\n",
    "        women += notas[i]\n",
    "        cont += 1\n",
    "\n",
    "print(f\"La nota promedio de los estudiantes mujeres del curso:{women / cont}\")\n",
    "\n",
    "bestOrLow_finder = 0\n",
    "\n",
    "for i in range(len(notas)):\n",
    "\n",
    "    if generos[i] == \"M\":\n",
    "        if(notas[i] > bestOrLow_finder):\n",
    "            bestOrLow_finder = notas[i]\n",
    "            best_men = nombres[i]\n",
    "        \n",
    "\n",
    "print(f\"El estudiante hombre con la nota más alta es: {best_men}\")\n",
    "\n",
    "bestOrLow_finder = 5.0\n",
    "\n",
    "for i in range(len(notas)):\n",
    "\n",
    "    if generos[i] == \"M\":\n",
    "        if(notas[i] < bestOrLow_finder):\n",
    "            bestOrLow_finder = notas[i]\n",
    "            worst_men = nombres[i]\n",
    "        \n",
    "\n",
    "print(f\"El estudiante hombre con la nota más baja es: {worst_men}\")\n",
    "\n",
    "bestOrLow_finder = 0\n",
    "\n",
    "for i in range(len(notas)):\n",
    "\n",
    "    if generos[i] == \"F\":\n",
    "        if(notas[i] > bestOrLow_finder):\n",
    "            bestOrLow_finder = notas[i]\n",
    "            best_women = nombres[i]\n",
    "        \n",
    "\n",
    "print(f\"La estudiante mujer con la nota más alta es: {best_women}\")\n",
    "\n",
    "bestOrLow_finder = 5.0\n",
    "\n",
    "for i in range(len(notas)):\n",
    "\n",
    "    if generos[i] == \"F\":\n",
    "        if(notas[i] < bestOrLow_finder):\n",
    "            bestOrLow_finder = notas[i]\n",
    "            worst_men = nombres[i]\n",
    "        \n",
    "\n",
    "print(f\"El estudiante mujer con la nota más baja es: {worst_men}\")"
   ]
  },
  {
   "cell_type": "markdown",
   "metadata": {},
   "source": [
    "# Ejercicio 2\n",
    "\n",
    "Se tiene una lista de códigos. Elabore un programa que ordene la lista de códigos, luego que lea un código y muestre si el producto existe o no en la lista utilizando el método de búsqueda binaria."
   ]
  },
  {
   "cell_type": "code",
   "execution_count": 7,
   "metadata": {},
   "outputs": [
    {
     "name": "stdout",
     "output_type": "stream",
     "text": [
      "Existe en la posicion:  0\n"
     ]
    }
   ],
   "source": [
    "#### Escriba su código aquí\n",
    "def binary_search(codigos, low, high, searcher):\n",
    "\n",
    "    if high >= low:\n",
    " \n",
    "        mid = (high + low) // 2\n",
    " \n",
    "        if codigos[mid] == searcher:\n",
    "            return mid\n",
    " \n",
    "        elif codigos[mid] > searcher:\n",
    "            return binary_search(codigos, low, mid - 1, searcher)\n",
    "\n",
    "        else:\n",
    "            return binary_search(codigos, mid + 1, high, searcher)\n",
    "\n",
    "    else:\n",
    "        return -1\n",
    "\n",
    "codigos = [9516,54124,21971,49841,4108,187,19684,1354,1087,1974,1979,21,5674,\n",
    "           19784001,1978210,48490,49840,5498,9874,6241,6970,6708,7921,264,69780,\n",
    "           6060,63014,32069,7745097,5520549]\n",
    "\n",
    "for i in range(1,len(codigos)):\n",
    "    for j in range(0, len(codigos)-i):\n",
    "        if codigos[j+1] < codigos[j]:\n",
    "            aux = codigos[j]\n",
    "            codigos[j] = codigos[j+1]\n",
    "            codigos[j+1] = aux\n",
    "\n",
    "searcher = int(input(\"Ingrese el código a buscar \"))\n",
    "\n",
    "result = binary_search(codigos, 0, len(codigos)-1, searcher)\n",
    "\n",
    "\n",
    "if result != -1:\n",
    "    print(\"Existe en la posicion: \", str(result))\n",
    "else:\n",
    "    print(\"No existe\")"
   ]
  },
  {
   "attachments": {
    "image.png": {
     "image/png": "[encoded data removed]"
    }
   },
   "cell_type": "markdown",
   "metadata": {},
   "source": [
    "# Ejercicio 3\n",
    "\n",
    "Dadas dos matrices A y B, ambas de tamaño NxN, elabore un programe que calcule:\n",
    "- C = A + B\n",
    "- D = A - C\n",
    "\n",
    "Por ejemplo:\n",
    "\n",
    "![image.png](attachment:image.png)"
   ]
  },
  {
   "cell_type": "code",
   "execution_count": 32,
   "metadata": {},
   "outputs": [
    {
     "name": "stdout",
     "output_type": "stream",
     "text": [
      "[[10, 11, 7, 7], [11, 5, 14, 12], [0, 1, 9, 7], [9, 11, 11, 18]]\n",
      "[[8, 1, 3, 1], [3, 3, -4, -4], [0, -1, -1, -7], [-3, 1, -3, 0]]\n"
     ]
    }
   ],
   "source": [
    "A = [[1,5,2,3],\n",
    "    [4,1,9,8],\n",
    "    [0,1,5,7],\n",
    "    [6,5,7,9]]\n",
    "\n",
    "B = [[9,6,5,4],\n",
    "    [7,4,5,4],\n",
    "    [0,0,4,0],\n",
    "    [3,6,4,9]]\n",
    "\n",
    "#### Escriba su código aquí\n",
    "\n",
    "C = []\n",
    "\n",
    "D = []\n",
    "\n",
    "auxiliar = []\n",
    "\n",
    "for i in range(len(A)):\n",
    "    for j in range(len(A)):\n",
    "        auxiliar.append(A[i][j] + B[i][j])\n",
    "    C.insert(i, auxiliar)\n",
    "    auxiliar = []\n",
    "    \n",
    "for i in range(len(A)):\n",
    "    for j in range(len(A)):\n",
    "        auxiliar.append(B[i][j] - A[i][j])\n",
    "    D.insert(i, auxiliar)\n",
    "    auxiliar = []\n",
    "\n",
    "print(C)\n",
    "print(D)"
   ]
  }
 ],
 "metadata": {
  "kernelspec": {
   "display_name": "Python 3.10.8 64-bit",
   "language": "python",
   "name": "python3"
  },
  "language_info": {
   "codemirror_mode": {
    "name": "ipython",
    "version": 3
   },
   "file_extension": ".py",
   "mimetype": "text/x-python",
   "name": "python",
   "nbconvert_exporter": "python",
   "pygments_lexer": "ipython3",
   "version": "3.10.8"
  },
  "vscode": {
   "interpreter": {
    "hash": "107d7b120a5b68773a87d4067e673630b35702e55ebab3138143d08b1c4d7cbc"
   }
  }
 },
 "nbformat": 4,
 "nbformat_minor": 4
}
