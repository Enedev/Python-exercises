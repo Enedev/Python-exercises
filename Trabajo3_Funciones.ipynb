{
 "cells": [
  {
   "cell_type": "markdown",
   "metadata": {},
   "source": [
    "# Pensamiento Algorítmico\n",
    "\n",
    "## Trabajo #3: Funciones"
   ]
  },
  {
   "cell_type": "markdown",
   "metadata": {},
   "source": [
    "Lea atentamente las instrucciones y realice los siguientes ejercicios en Python.\n",
    "\n",
    "### Instrucciones de entrega\n",
    "\n",
    "Debe entregar este mismo archivo con todo el código que desarrolle y cargarlo en UVirtual.\n",
    "\n",
    "### Participantes\n",
    "\n",
    "**Ecriba su nombre aquí**"
   ]
  },
  {
   "cell_type": "markdown",
   "metadata": {},
   "source": [
    "# Ejercicio 1\n",
    "\n",
    "Realice una función **factorial()** que reciba un número y calcule el factorial de dicho número. No utilice librerías adicionales para esto."
   ]
  },
  {
   "cell_type": "code",
   "execution_count": 1,
   "metadata": {},
   "outputs": [],
   "source": [
    "# Escriba su código aquí\n",
    "def factorial(n):\n",
    "    if n <= 1:\n",
    "        return 1\n",
    "    else:\n",
    "        return(n * factorial(n - 1))"
   ]
  },
  {
   "cell_type": "code",
   "execution_count": 2,
   "metadata": {},
   "outputs": [
    {
     "name": "stdout",
     "output_type": "stream",
     "text": [
      "120\n"
     ]
    }
   ],
   "source": [
    "# Valores de prueba\n",
    "print(factorial(5))"
   ]
  },
  {
   "cell_type": "markdown",
   "metadata": {},
   "source": [
    "# Ejercicio 2\n",
    "\n",
    "La distancia lineal entre dos puntos se da por la fórmula:\n",
    "\n",
    "$$\n",
    "d(A,B) = \\sqrt{\\left( X_{2} - X_{1} \\right)^{2} +\\left( Y_{2} - Y_{1} \\right)^{2}}\n",
    "$$\n",
    "\n",
    "Donde \n",
    "$$\n",
    "A = (X_{1},Y_{1})\n",
    "$$\n",
    "$$\n",
    "B = (X_{2},Y_{2})\n",
    "$$\n",
    "\n",
    "Son coordenadas. Realice una función **dist_lineal()** que reciba dos puntos de coordenadas y calcule la distancia lineal entre ellos. Los puntos los debe recibir como listas de dos elementos. No utilice la librería math para calcular esta distancia, solo se permite usar para calcular la raíz cuadrada."
   ]
  },
  {
   "cell_type": "code",
   "execution_count": 3,
   "metadata": {},
   "outputs": [
    {
     "name": "stdout",
     "output_type": "stream",
     "text": [
      "3.605551275463989\n"
     ]
    },
    {
     "data": {
      "text/plain": [
       "' def dist_lineal1(a, b):\\n    x1 = a[0] - b[0]\\n    y1 = a[1] - b[1]\\n\\n    if(x1 < 0):\\n        x1 = ((x1 - x1) - x1)\\n    elif(y1 < 0):\\n        y1 = ((y1 - y1) - y1)\\n    \\n    x1 = x1**2\\n    y1 = y1**2\\n\\n    result = x1 + y1\\n    return math.sqrt(result)\\n\\nprint(dist_lineal1(p1, p2)) '"
      ]
     },
     "execution_count": 3,
     "metadata": {},
     "output_type": "execute_result"
    }
   ],
   "source": [
    "# Escriba su código aquí\n",
    "import math\n",
    "\n",
    "def dist_lineal(a, b):\n",
    "    result = pow((a[0] - b[0]), 2) + pow((a[1] - b[1]), 2)\n",
    "    #Usamos la función pow() debido a que si no lo hacemos el número elevado a la 2 podría darnos un número negativo\n",
    "    return math.sqrt(result)\n",
    "\n",
    "#alternativa a la función sin pow\n",
    "\n",
    "\"\"\" def dist_lineal1(a, b):\n",
    "    x1 = a[0] - b[0]\n",
    "    y1 = a[1] - b[1]\n",
    "\n",
    "    if(x1 < 0):\n",
    "        x1 = ((x1 - x1) - x1)\n",
    "    elif(y1 < 0):\n",
    "        y1 = ((y1 - y1) - y1)\n",
    "    \n",
    "    x1 = x1**2\n",
    "    y1 = y1**2\n",
    "\n",
    "    result = x1 + y1\n",
    "    return math.sqrt(result)\"\"\""
   ]
  },
  {
   "cell_type": "code",
   "execution_count": 4,
   "metadata": {},
   "outputs": [
    {
     "name": "stdout",
     "output_type": "stream",
     "text": [
      "3.605551275463989\n"
     ]
    }
   ],
   "source": [
    "# Valores de prueba\n",
    "p1 = [1,2]\n",
    "p2 = [3,-1]\n",
    "print(dist_lineal(p1, p2))"
   ]
  },
  {
   "cell_type": "markdown",
   "metadata": {},
   "source": [
    "# Ejercicio 3\n",
    "\n",
    "Se tiene una lista con subtotales de productos de una factura. Cree una función **facturar()** que reciba esta lista junto con el porcentaje de IVA (por defecto es 10% pero ese valor puede cambiar) y calcule el total a pagar (sumatoria de los subtotales más el valor de IVA de cada cartículo). Si el subtotal del artículo es mayor a 100 USD, el IVA tendrá una disminución del 5% sobre el que se calcule."
   ]
  },
  {
   "cell_type": "code",
   "execution_count": 5,
   "metadata": {},
   "outputs": [],
   "source": [
    "# Escriba su código aquí\n",
    "def facturar(prices, iva = None):\n",
    "    if iva == None:\n",
    "        iva = 0.10\n",
    "\n",
    "    counter = 0\n",
    "\n",
    "    for i in range(len(prices)):\n",
    "        if prices[i] > 100:\n",
    "            operation = (prices[i] * (iva - 0.05)) + prices[i]\n",
    "            counter += operation\n",
    "        else:\n",
    "            operation = (prices[i] * iva) + prices[i]\n",
    "            counter += operation\n",
    "\n",
    "    print(f'El total de tu factura más el IVA del {iva}% es de: {counter}')"
   ]
  },
  {
   "cell_type": "code",
   "execution_count": null,
   "metadata": {},
   "outputs": [],
   "source": [
    "# Valores de prueba\n",
    "subtotales = [99.99, 105, 49.99, 69.95, 203.45]\n",
    "print(facturar(subtotales))\n",
    "print(facturar(subtotales, 0.19))"
   ]
  }
 ],
 "metadata": {
  "kernelspec": {
   "display_name": "Python 3.9.13 64-bit (microsoft store)",
   "language": "python",
   "name": "python3"
  },
  "language_info": {
   "codemirror_mode": {
    "name": "ipython",
    "version": 3
   },
   "file_extension": ".py",
   "mimetype": "text/x-python",
   "name": "python",
   "nbconvert_exporter": "python",
   "pygments_lexer": "ipython3",
   "version": "3.9.13"
  },
  "vscode": {
   "interpreter": {
    "hash": "24a2f3c59c97a8fa5d8a13a98a5b4dbbca0e8a49af5cdf0749a451e4e8ac390f"
   }
  }
 },
 "nbformat": 4,
 "nbformat_minor": 4
}
